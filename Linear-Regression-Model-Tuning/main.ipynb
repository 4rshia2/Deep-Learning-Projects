{
 "cells": [
  {
   "cell_type": "markdown",
   "id": "7119e8a1-567c-4458-bebf-0a7e4a3d3a49",
   "metadata": {},
   "source": [
    "<h1 align=center style=\"line-height:150%;font-family:vazir;color:#0099cc\">\n",
    "<font face=\"vazir\" color=\"#00cc\">\n",
    "عرشیا ربیعی سوال دوم مینی پروژه دوم\n",
    "</font>\n",
    "</h1>"
   ]
  },
  {
   "cell_type": "code",
   "execution_count": 3,
   "id": "808acdc6-5627-4272-84d3-cddef1222f7a",
   "metadata": {},
   "outputs": [],
   "source": [
    "import numpy as np\n",
    "import pandas as pd\n",
    "import matplotlib.pyplot as plt"
   ]
  },
  {
   "cell_type": "markdown",
   "id": "2432d89b-b61b-4b08-8d6c-03bcdc00bd69",
   "metadata": {},
   "source": [
    "<p dir=rtl style=\"direction: rtl;text-align: right;line-height:200%;font-family:vazir;font-size:medium\">\n",
    "<font face=\"vazir\" size=3>\n",
    "کلاس زیر\n",
    "    <code>cross validation</code>\n",
    "    ,\n",
    "    <code>regression</code>\n",
    "    ,\n",
    "    <code>MSE</code>\n",
    "    زیر را برای هر یک از 9 مدل ذکر شده در صورت سوال محاسبه میکند و درون آبجک نگه میدارد\n",
    "    </font>\n",
    "</p>"
   ]
  },
  {
   "cell_type": "code",
   "execution_count": 4,
   "id": "571337ba-8572-492d-a16e-00152e8b0370",
   "metadata": {},
   "outputs": [],
   "source": [
    "class Regression:\n",
    "    def __init__(self , X_train , y_train , number_of_attrs ,exp ,  lamda = 0 ):\n",
    "        self.X_train = X_train.copy()\n",
    "        self.y_train = y_train.copy()\n",
    "        self.weight = np.zeros(number_of_attrs+1)\n",
    "        self.len = X_train.shape[0]\n",
    "        self.lamda = lamda\n",
    "        self.exp = exp\n",
    "        self.cross_mse = 0\n",
    "    def train_normal_equation(self, X , y):\n",
    "        XX_T_lambda_inverse = np.linalg.inv( np.matmul(X.T , X) + (self.lamda * np.eye(X.shape[1])) )\n",
    "        X_salib = np.matmul(XX_T_lambda_inverse , X.T)\n",
    "        w = np.matmul(X_salib , y)\n",
    "        return w\n",
    "    def cross_validation(self):\n",
    "        shuffled = np.arange(self.len)\n",
    "        mse_list = []\n",
    "        mse_train_list = []\n",
    "        for i in range(10):\n",
    "            np.random.shuffle(shuffled)\n",
    "            self.X_train = self.X_train[shuffled]\n",
    "            self.y_train = self.y_train[shuffled]\n",
    "            mses = 0\n",
    "            mses_train = 0\n",
    "            for fold in range(2):\n",
    "                mask = np.ones(self.len , dtype = bool)\n",
    "                mask[self.len//5 * fold : self.len//5 * (fold+1)] = False\n",
    "                X_validation = self.X_train[~mask].copy()\n",
    "                y_validation = self.y_train[~mask].copy()\n",
    "                X = self.X_train[mask].copy()\n",
    "                y = self.y_train[mask].copy()\n",
    "                w = self.train_normal_equation(X , y)\n",
    "                mse = self.MSE(X_validation , y_validation , w)\n",
    "                mse_train = self.MSE(X , y , w)\n",
    "                mses_train += mse_train\n",
    "                mses += mse\n",
    "                mse_train_list.append(mses_train)\n",
    "                mse_list.append(mse)\n",
    "        plt.boxplot([mse_list , mse_train_list])\n",
    "        plt.xticks([1,2] , ['Validation datas' , 'Train datas'])\n",
    "        plt.yscale('log')\n",
    "        plt.ylabel('MSE')\n",
    "        plt.show()\n",
    "        return\n",
    "    def MSE(self,X , y , W):\n",
    "        mse = ((y - np.dot(X , W))**2).sum()\n",
    "        mse /= X.shape[0]\n",
    "        return mse\n",
    "    def predict(self , X , W):\n",
    "        return X.dot(W)"
   ]
  },
  {
   "cell_type": "code",
   "execution_count": 5,
   "id": "60ad95e9-7e86-4000-b2c6-c06e52529439",
   "metadata": {},
   "outputs": [
    {
     "data": {
      "text/html": [
       "<div>\n",
       "<style scoped>\n",
       "    .dataframe tbody tr th:only-of-type {\n",
       "        vertical-align: middle;\n",
       "    }\n",
       "\n",
       "    .dataframe tbody tr th {\n",
       "        vertical-align: top;\n",
       "    }\n",
       "\n",
       "    .dataframe thead th {\n",
       "        text-align: right;\n",
       "    }\n",
       "</style>\n",
       "<table border=\"1\" class=\"dataframe\">\n",
       "  <thead>\n",
       "    <tr style=\"text-align: right;\">\n",
       "      <th></th>\n",
       "      <th>f1</th>\n",
       "      <th>f2</th>\n",
       "      <th>f3</th>\n",
       "      <th>f4</th>\n",
       "      <th>f5</th>\n",
       "      <th>f6</th>\n",
       "      <th>f7</th>\n",
       "      <th>f8</th>\n",
       "      <th>f9</th>\n",
       "      <th>f10</th>\n",
       "      <th>f11</th>\n",
       "      <th>f12</th>\n",
       "      <th>f13</th>\n",
       "      <th>target</th>\n",
       "      <th>bias</th>\n",
       "    </tr>\n",
       "  </thead>\n",
       "  <tbody>\n",
       "    <tr>\n",
       "      <th>0</th>\n",
       "      <td>0.11460</td>\n",
       "      <td>20.0</td>\n",
       "      <td>6.96</td>\n",
       "      <td>0.0</td>\n",
       "      <td>0.464</td>\n",
       "      <td>6.538</td>\n",
       "      <td>58.7</td>\n",
       "      <td>3.9175</td>\n",
       "      <td>3.0</td>\n",
       "      <td>223.0</td>\n",
       "      <td>18.6</td>\n",
       "      <td>394.96</td>\n",
       "      <td>7.73</td>\n",
       "      <td>24.4</td>\n",
       "      <td>1</td>\n",
       "    </tr>\n",
       "    <tr>\n",
       "      <th>1</th>\n",
       "      <td>9.39063</td>\n",
       "      <td>0.0</td>\n",
       "      <td>18.10</td>\n",
       "      <td>0.0</td>\n",
       "      <td>0.740</td>\n",
       "      <td>5.627</td>\n",
       "      <td>93.9</td>\n",
       "      <td>1.8172</td>\n",
       "      <td>24.0</td>\n",
       "      <td>666.0</td>\n",
       "      <td>20.2</td>\n",
       "      <td>396.90</td>\n",
       "      <td>22.88</td>\n",
       "      <td>12.8</td>\n",
       "      <td>1</td>\n",
       "    </tr>\n",
       "    <tr>\n",
       "      <th>2</th>\n",
       "      <td>2.37857</td>\n",
       "      <td>0.0</td>\n",
       "      <td>18.10</td>\n",
       "      <td>0.0</td>\n",
       "      <td>0.583</td>\n",
       "      <td>5.871</td>\n",
       "      <td>41.9</td>\n",
       "      <td>3.7240</td>\n",
       "      <td>24.0</td>\n",
       "      <td>666.0</td>\n",
       "      <td>20.2</td>\n",
       "      <td>370.73</td>\n",
       "      <td>13.34</td>\n",
       "      <td>20.6</td>\n",
       "      <td>1</td>\n",
       "    </tr>\n",
       "    <tr>\n",
       "      <th>3</th>\n",
       "      <td>0.05302</td>\n",
       "      <td>0.0</td>\n",
       "      <td>3.41</td>\n",
       "      <td>0.0</td>\n",
       "      <td>0.489</td>\n",
       "      <td>7.079</td>\n",
       "      <td>63.1</td>\n",
       "      <td>3.4145</td>\n",
       "      <td>2.0</td>\n",
       "      <td>270.0</td>\n",
       "      <td>17.8</td>\n",
       "      <td>396.06</td>\n",
       "      <td>5.70</td>\n",
       "      <td>28.7</td>\n",
       "      <td>1</td>\n",
       "    </tr>\n",
       "    <tr>\n",
       "      <th>4</th>\n",
       "      <td>0.14150</td>\n",
       "      <td>0.0</td>\n",
       "      <td>6.91</td>\n",
       "      <td>0.0</td>\n",
       "      <td>0.448</td>\n",
       "      <td>6.169</td>\n",
       "      <td>6.6</td>\n",
       "      <td>5.7209</td>\n",
       "      <td>3.0</td>\n",
       "      <td>233.0</td>\n",
       "      <td>17.9</td>\n",
       "      <td>383.37</td>\n",
       "      <td>5.81</td>\n",
       "      <td>25.3</td>\n",
       "      <td>1</td>\n",
       "    </tr>\n",
       "  </tbody>\n",
       "</table>\n",
       "</div>"
      ],
      "text/plain": [
       "        f1    f2     f3   f4     f5     f6    f7      f8    f9    f10   f11  \\\n",
       "0  0.11460  20.0   6.96  0.0  0.464  6.538  58.7  3.9175   3.0  223.0  18.6   \n",
       "1  9.39063   0.0  18.10  0.0  0.740  5.627  93.9  1.8172  24.0  666.0  20.2   \n",
       "2  2.37857   0.0  18.10  0.0  0.583  5.871  41.9  3.7240  24.0  666.0  20.2   \n",
       "3  0.05302   0.0   3.41  0.0  0.489  7.079  63.1  3.4145   2.0  270.0  17.8   \n",
       "4  0.14150   0.0   6.91  0.0  0.448  6.169   6.6  5.7209   3.0  233.0  17.9   \n",
       "\n",
       "      f12    f13  target  bias  \n",
       "0  394.96   7.73    24.4     1  \n",
       "1  396.90  22.88    12.8     1  \n",
       "2  370.73  13.34    20.6     1  \n",
       "3  396.06   5.70    28.7     1  \n",
       "4  383.37   5.81    25.3     1  "
      ]
     },
     "execution_count": 5,
     "metadata": {},
     "output_type": "execute_result"
    }
   ],
   "source": [
    "df = pd.read_csv('Dataset/Problem 2/train_set.csv')\n",
    "df['bias'] = 1\n",
    "df.head()"
   ]
  },
  {
   "cell_type": "markdown",
   "id": "2a5f145a-0f7f-47d8-b673-eaabc102758d",
   "metadata": {},
   "source": [
    "### Dividing training Dataset into X and y"
   ]
  },
  {
   "cell_type": "code",
   "execution_count": 6,
   "id": "9b3b1ada-2fe6-4ca0-b816-ece2b27c6925",
   "metadata": {},
   "outputs": [],
   "source": [
    "target = df['target'].values\n",
    "df.drop(columns='target' , inplace=True)\n",
    "x_train = df.values"
   ]
  },
  {
   "cell_type": "markdown",
   "id": "37f1b708-445c-4cb2-9d42-bc6bf91d119f",
   "metadata": {},
   "source": [
    "<p dir=rtl style=\"direction: rtl;text-align: right;line-height:200%;font-family:vazir;font-size:medium\">\n",
    "<font face=\"vazir\" size=3>\n",
    "در اینجا داده های آموزش را طبق خواسته ی استاندارد سازی میکنیم \n",
    "</p>"
   ]
  },
  {
   "cell_type": "code",
   "execution_count": 7,
   "id": "cebd3f35-caf6-435b-8ab6-7d19722ba316",
   "metadata": {},
   "outputs": [],
   "source": [
    "mean = np.mean(x_train[ : , :-1] ,axis = 0)\n",
    "std = np.std(x_train[ : , :-1] , axis = 0)\n",
    "x_train[: , : -1] = (x_train[: , : -1] - mean) / std"
   ]
  },
  {
   "cell_type": "markdown",
   "id": "02974737-3fd3-4df2-9187-4b2c2593dafd",
   "metadata": {},
   "source": [
    "<p dir=rtl style=\"direction: rtl;text-align: right;line-height:200%;font-family:vazir;font-size:medium\">\n",
    "<font face=\"vazir\" size=3>\n",
    "سه سلول بعدی هر یک به ازای تنظیمات مختلف لامبدا یا همان ضریب منظم سازی برای درجه 1 یا همان رگرسیون خطی داده ها ، مدل را با روش \n",
    "<code>cross validation</code>\n",
    "اموزش میدهیم\n",
    "و نمودار \n",
    "<code>boxplot</code>\n",
    "آن را رسم میکنیم و در اخر کار برای انتخاب بهترین تنظیمات از بین تنظیمات انجام شده، فاصله ی میان \n",
    "    <code>MSE-validation</code>\n",
    "و\n",
    "        <code>MSE-train</code>\n",
    "مقایسه میکنیم آن تنظیماتی که کمترین اختلاف را میان این 2 دارد و خود مقدار\n",
    "        <code>MSE</code>\n",
    "   ان کمتر میباشد را به عنوان تنظیمات برتر انتخاب میکنیم\n",
    "</p>"
   ]
  },
  {
   "cell_type": "markdown",
   "id": "e107a959-b00c-4948-aa50-8ac91fe069e1",
   "metadata": {
    "tags": []
   },
   "source": [
    "**Polynomial Degree = 1 and Lambda = 0  :**"
   ]
  },
  {
   "cell_type": "code",
   "execution_count": 8,
   "id": "42f4f397-9aa0-4c83-844e-e6a3eaf880f5",
   "metadata": {},
   "outputs": [
    {
     "data": {
      "image/png": "[encoded data removed]",
      "text/plain": [
       "<Figure size 640x480 with 1 Axes>"
      ]
     },
     "metadata": {},
     "output_type": "display_data"
    }
   ],
   "source": [
    "p1l0 = Regression(x_train , target , 13 ,1 ,0)\n",
    "p1l0.cross_validation()"
   ]
  },
  {
   "cell_type": "markdown",
   "id": "d2ce06b3-7a8b-49a0-8ec8-d0ee7d33fc08",
   "metadata": {},
   "source": [
    "<p dir=rtl style=\"direction: rtl;text-align: right;line-height:200%;font-family:vazir;font-size:medium\">\n",
    "<font face=\"vazir\" size=3>\n",
    "تحلیل نمودار بالا:\n",
    "    <br>\n",
    "    در این حالت \n",
    "    <code>validation-MSE</code>\n",
    "    در حدود 20 میباشد و برای داده ی اموزش در حدود 70 میباشد.این اختلاف به نسبت معقول میباشد اما خود مقدار عددی \n",
    "    <code>MSE</code>\n",
    "    کمی بزرگ است.حال میگردیم در ادامه تنظیمات بهتری پیدا میکنیم یا خیر.\n",
    "    </br>\n",
    "</p>"
   ]
  },
  {
   "cell_type": "markdown",
   "id": "213ef166-c535-43c0-afe6-769f7fd5ce0c",
   "metadata": {},
   "source": [
    "**Polynomial Degree = 1 and Lambda = 1  :**"
   ]
  },
  {
   "cell_type": "code",
   "execution_count": 422,
   "id": "03988614-de0c-4a15-99f5-4f15c96e8584",
   "metadata": {},
   "outputs": [
    {
     "data": {
      "image/png": "[encoded data removed]",
      "text/plain": [
       "<Figure size 640x480 with 1 Axes>"
      ]
     },
     "metadata": {},
     "output_type": "display_data"
    }
   ],
   "source": [
    "p1l1 = Regression(x_train , target , 13 ,1 , 1)\n",
    "p1l1.cross_validation()"
   ]
  },
  {
   "cell_type": "markdown",
   "id": "d1b03179-1877-4800-a5cb-a9d48c1c6b19",
   "metadata": {},
   "source": [
    "<p dir=rtl style=\"direction: rtl;text-align: right;line-height:200%;font-family:vazir;font-size:medium\">\n",
    "<font face=\"vazir\" size=3>\n",
    "تحلیل نموداربالا:\n",
    "    <br>\n",
    "    با 1 شدن ضریب منظم سازی تفاوت چندانی در مقادیر \n",
    "    <code>MSE</code>\n",
    "    و اختلاف انها بوجود نیامد که منطقی میباشد چرا که مدل ما خطی است و ویژگی ندارد که توجه زیادی به ویژگی پرت بکند\n",
    "    </br>\n",
    "</p>"
   ]
  },
  {
   "cell_type": "markdown",
   "id": "4c6f7ade-d4f0-4e34-9861-8c233e28d7a4",
   "metadata": {},
   "source": [
    "**Polynomial Degree = 1 and Lambda = 10  :**"
   ]
  },
  {
   "cell_type": "code",
   "execution_count": 423,
   "id": "c46288b9-7781-4da4-aaa9-a37f5ab80f32",
   "metadata": {},
   "outputs": [
    {
     "data": {
      "image/png": "[encoded data removed]",
      "text/plain": [
       "<Figure size 640x480 with 1 Axes>"
      ]
     },
     "metadata": {},
     "output_type": "display_data"
    }
   ],
   "source": [
    "p1l10 = Regression(x_train , target , 13 , 1 ,10)\n",
    "p1l10.cross_validation()"
   ]
  },
  {
   "cell_type": "markdown",
   "id": "0c41a1e9-53c3-4017-8daf-b863da693cc0",
   "metadata": {},
   "source": [
    "<p dir=rtl style=\"direction: rtl;text-align: right;line-height:200%;font-family:vazir;font-size:medium\">\n",
    "<font face=\"vazir\" size=3>\n",
    "تحلیل نمودار بالا:\n",
    "برای این حالت هم مانند دو حالت بالا میباشد.نتیجتا در حالت خطی مقدار ضریب منظم سازی به علت تاثیر درست فیچر ها، تاثیر چندانی در مدل ندارند.\n",
    "</p>"
   ]
  },
  {
   "cell_type": "markdown",
   "id": "c4000182-8d7d-418d-a6d8-41dfd85bfcea",
   "metadata": {},
   "source": [
    "<p dir=rtl style=\"direction: rtl;text-align: right;line-height:200%;font-family:vazir;font-size:medium\">\n",
    "<font face=\"vazir\" size=3>\n",
    "دو سلول بعدی دو تابع میباشد که کمک میکنند ویژگی با درجه ی دلخواه را استراخ کنیم.\n",
    "<br>\n",
    "تابع\n",
    "    <code>extract_polynomial_features</code>\n",
    "    یک رکورد دریافت میکند و به ازای درجه ی ورودی در آرگومان تابع، تمامی اعدادی که با فیچر درجه ی داده شده بوجود می آید را میسازد\n",
    "</br>\n",
    "   این تابع به صورت بازگشتی پیاده شده است\n",
    "</p>"
   ]
  },
  {
   "cell_type": "code",
   "execution_count": 424,
   "id": "fb114881-19f7-4473-aaa0-040f0bb2f4fd",
   "metadata": {},
   "outputs": [],
   "source": [
    "constructed_x = []\n",
    "def extract_polynomial_features(row , degree , it , res = 1, ind=0):\n",
    "    global constructed_x\n",
    "    if it == degree+1:\n",
    "        constructed_x[-1].append(res)\n",
    "        return\n",
    "    for i in range(ind , len(row)):\n",
    "        res *= row[i]\n",
    "        extract_polynomial_features(row , degree  , it + 1 ,res , i)\n",
    "        res /= row[i]"
   ]
  },
  {
   "cell_type": "markdown",
   "id": "6d556ed4-cc6e-4949-97cc-81b3fad7388c",
   "metadata": {},
   "source": [
    "<p dir=rtl style=\"direction: rtl;text-align: right;line-height:200%;font-family:vazir;font-size:medium\">\n",
    "<font face=\"vazir\" size=3>\n",
    "در تابع \n",
    "    <code>make_features</code>\n",
    "یک دیتاست و درجه ای که میخواهیم تمامی فیجر ها تا آن درجه ساخته شود را ورودی میدهیم و درون تابع لیست\n",
    "    <code>constructed_x</code>\n",
    "    پر میکنیم که معادل با همان چند جمله ای دیتاست از درجه ی داده شده است.\n",
    "    چون تابع \n",
    "       <code>extract_polynomial_features</code>\n",
    "        یک سطر را هندل میکند بنابراین در این تابع باید یک حلقه برای طی کردن همه ی سطر ها بزنیم\n",
    "        همچین تابع \n",
    "               <code>extract_polynomial_features</code>\n",
    "            فیچر ها از درجه ی خواسته شده را فقط تولید میکند در صورتی که فرضا برای فیچر های درجه 3،ویژگی های درجه 2 و 1 هم مورد قبول هست پس یک حلقه ی داخلی نیاز داریم تا ویژگی ها تا آن درجه نیز را هم بسازد.\n",
    "    <br>\n",
    "    ناگفته نماند تعداد فیچر های درجه 3 با دیتاست اولیه داده شده برابر با 560 و برای درجه 5 برای با 8568 میباشد\n",
    "    </br>\n",
    "</p>"
   ]
  },
  {
   "cell_type": "code",
   "execution_count": 425,
   "id": "6a54d0b4-01ab-470b-920a-0eb9a16033f7",
   "metadata": {},
   "outputs": [],
   "source": [
    "def make_features(X , degrees):\n",
    "    global constructed_x\n",
    "    for row in X:\n",
    "        constructed_x.append([])\n",
    "        for degree in range(1 , degrees + 1):\n",
    "            extract_polynomial_features(row , degree , 1 , 1 , 0)"
   ]
  },
  {
   "cell_type": "markdown",
   "id": "5074bb00-fe03-42d4-a0c5-71ea9fb1aeba",
   "metadata": {},
   "source": [
    "<p dir=rtl style=\"direction: rtl;text-align: right;line-height:200%;font-family:vazir;font-size:medium\">\n",
    "<font face=\"vazir\" size=3>\n",
    "در اینجا از روی دیتای اصلی ، دیتا با ویژگی های درجه 3 را با استفاده از تابع های بالا میسازیم\n",
    "</p>"
   ]
  },
  {
   "cell_type": "code",
   "execution_count": 426,
   "id": "7e53cbe7-ebac-426d-bee9-85168b582b48",
   "metadata": {},
   "outputs": [],
   "source": [
    "constructed_x = []\n",
    "make_features(x_train[: , :-1] , 3)\n",
    "for i in range(len(constructed_x)):\n",
    "    constructed_x[i].append(1)\n",
    "x3_train = np.array(constructed_x)"
   ]
  },
  {
   "cell_type": "markdown",
   "id": "b25a4f6d-4f69-4014-91af-b977b0e77842",
   "metadata": {},
   "source": [
    "<p dir=rtl style=\"direction: rtl;text-align: right;line-height:200%;font-family:vazir;font-size:medium\">\n",
    "<font face=\"vazir\" size=3>\n",
    "حال تا 3 سلول آینده مانند حالت خطی، برای درجه ی 3 هم با 3 مقدار مختلف ضریب منظم سازی، نمودار های  \n",
    "        <code>boxplot</code>\n",
    "را\n",
    "رسم میکنیم\n",
    "</p>"
   ]
  },
  {
   "cell_type": "markdown",
   "id": "08a964a0-3026-43ab-92d9-7795b66eebaa",
   "metadata": {},
   "source": [
    "**Polynomial Degree = 3 and Lambda = 0  :**"
   ]
  },
  {
   "cell_type": "code",
   "execution_count": 442,
   "id": "b420b45b-1bc5-4006-977b-4dbd16ac18d3",
   "metadata": {},
   "outputs": [
    {
     "data": {
      "image/png": "[encoded data removed]",
      "text/plain": [
       "<Figure size 640x480 with 1 Axes>"
      ]
     },
     "metadata": {},
     "output_type": "display_data"
    }
   ],
   "source": [
    "p3l0 = Regression(x3_train , target , 13 ,3 , 0)\n",
    "p3l0.cross_validation()"
   ]
  },
  {
   "cell_type": "markdown",
   "id": "ae640b5a-54b2-4745-b466-b08a488ddcd7",
   "metadata": {},
   "source": [
    "<p dir=rtl style=\"direction: rtl;text-align: right;line-height:200%;font-family:vazir;font-size:medium\">\n",
    "<font face=\"vazir\" size=3>\n",
    "تحلیل نمودار بالا:\n",
    "    <br>\n",
    "در این حالت تفاوت \n",
    "    <code>validation-MSE</code>\n",
    "    و\n",
    "    <code>train-MSE</code>\n",
    "    فاحش است و خود این مقادیر به اندازه ی کافی زیاد هستند که بگوییم\n",
    "    <code>Underfit</code>\n",
    "    اتفاق افتاده است.\n",
    "    این اتفاق بخاطر این است که فیچر هایی تولید شده که مستقل نیستند و همچنین فیچر نا مربوط به تارگت ما میباشند.در ادامه سعی میکنیم با ضریب منظم سازی تاثیر این ویژگی های نا مرتبط را به تعادل برسانیم.\n",
    "    </br>\n",
    "</p>"
   ]
  },
  {
   "cell_type": "markdown",
   "id": "9775e6ce-0fd4-4033-84a8-ccd8da525069",
   "metadata": {},
   "source": [
    "**Polynomial Degree = 3 and Lambda = 1  :**"
   ]
  },
  {
   "cell_type": "code",
   "execution_count": null,
   "id": "b4e0ae0d-4d08-4ee1-a62b-149aa47b0719",
   "metadata": {},
   "outputs": [],
   "source": [
    "p3l1 = Regression(x3_train , target , 13 ,3 , 1)\n",
    "p3l1.cross_validation()"
   ]
  },
  {
   "cell_type": "markdown",
   "id": "ed8b67f9-3f78-4a87-97e4-de9acfa041e3",
   "metadata": {},
   "source": [
    "<p dir=rtl style=\"direction: rtl;text-align: right;line-height:200%;font-family:vazir;font-size:medium\">\n",
    "<font face=\"vazir\" size=3>\n",
    "تحلیل نمودار بالا:\n",
    "    <br>\n",
    "در این حالت  \n",
    "    <code>validation-MSE</code>\n",
    "    و\n",
    "    <code>train-MSE</code>\n",
    "    تفاوت نسبتا زیادی دارند اما خود این مقادیر به وضوح نسبت به حالت قبل کاهش پیدا کرده اند که این نشان میدهد با اضافه کردن ضریب منظم سازی به مدل نرمال تری از درجه 3 رسیدیم. اما باز هم بخاطر آن اختلاف در این حالت نسبتا \n",
    "        <code>Overfit</code>\n",
    "       اتفاق افتاده است\n",
    "    </br>\n",
    "</p>"
   ]
  },
  {
   "cell_type": "markdown",
   "id": "c92b5dbe-c5f1-433b-8e00-60e828cfea63",
   "metadata": {},
   "source": [
    "**Polynomial Degree = 3 and Lambda = 10  :**"
   ]
  },
  {
   "cell_type": "code",
   "execution_count": 429,
   "id": "a9ddad75-02b8-41e5-ad07-8c7ab83c336b",
   "metadata": {},
   "outputs": [
    {
     "data": {
      "image/png": "[encoded data removed]",
      "text/plain": [
       "<Figure size 640x480 with 1 Axes>"
      ]
     },
     "metadata": {},
     "output_type": "display_data"
    }
   ],
   "source": [
    "p3l10 = Regression(x3_train , target , 13 ,3 , 10)\n",
    "p3l10.cross_validation()"
   ]
  },
  {
   "cell_type": "markdown",
   "id": "3108eac2-9d6b-4320-a251-a96d298d1968",
   "metadata": {},
   "source": [
    "<p dir=rtl style=\"direction: rtl;text-align: right;line-height:200%;font-family:vazir;font-size:medium\">\n",
    "<font face=\"vazir\" size=3>\n",
    "تحلیل نمودار بالا:\n",
    "    <br>\n",
    "در این حالت  \n",
    "    <code>validation-MSE</code>\n",
    "    و\n",
    "    <code>train-MSE</code>\n",
    "        تفاوت کمی دارند و خود این مقادیر به اندازه ی قابل قبولی پایین میباشند که این نشان میدهد که مدل میتواند\n",
    "        <code>Generalization</code>\n",
    "        خوبی هم داشته باشد و تا به الان بهترین مدل ما با توجه به نمودار است\n",
    "    </br>\n",
    "</p>"
   ]
  },
  {
   "cell_type": "markdown",
   "id": "5b6b8803-d3f1-49bc-b7ad-314253047c63",
   "metadata": {
    "tags": []
   },
   "source": [
    "<p dir=rtl style=\"direction: rtl;text-align: right;line-height:200%;font-family:vazir;font-size:medium\">\n",
    "<font face=\"vazir\" size=3>\n",
    "حال دیتا با ویژگی های درجه ی 5 را میسازیم\n",
    "</p>"
   ]
  },
  {
   "cell_type": "code",
   "execution_count": 430,
   "id": "50bf5385-0a7e-40b7-9fd6-7d6436682d77",
   "metadata": {},
   "outputs": [],
   "source": [
    "constructed_x = []\n",
    "make_features(x_train[: , :-1] , 5)\n",
    "for i in range(len(constructed_x)):\n",
    "    constructed_x[i].append(1)\n",
    "x5_train = np.array(constructed_x)"
   ]
  },
  {
   "cell_type": "markdown",
   "id": "f3524a38-0ae9-4cee-8f29-1d9ae3bc0614",
   "metadata": {},
   "source": [
    "<p dir=rtl style=\"direction: rtl;text-align: right;line-height:200%;font-family:vazir;font-size:medium\">\n",
    "<font face=\"vazir\" size=3>\n",
    "حال تا 3 سلول آینده مانند حالات قبل، برای درجه ی 5 هم با 3 مقدار مختلف ضریب منظم سازی، نمودار های  \n",
    "        <code>boxplot</code>\n",
    "را\n",
    "رسم میکنیم\n",
    "</p>"
   ]
  },
  {
   "cell_type": "markdown",
   "id": "fbc6b626-7424-4029-9241-f1d03d651547",
   "metadata": {},
   "source": [
    "<p dir=rtl style=\"direction: rtl;text-align: right;line-height:200%;font-family:vazir;font-size:medium\">\n",
    "<font face=\"vazir\" size=5>\n",
    "هشدار:3 سلول بعدی برای ران شدن ممکن است هر کدام تا 30 دقیقه تایم بگیرند\n",
    "</p>"
   ]
  },
  {
   "cell_type": "markdown",
   "id": "dd53275e-b78b-4fef-bb45-70d63c34e807",
   "metadata": {},
   "source": [
    "**Polynomial Degree = 5 and Lambda = 0  :**"
   ]
  },
  {
   "cell_type": "code",
   "execution_count": null,
   "id": "77fdc5ef-50fa-4ab9-bc11-21a236661745",
   "metadata": {},
   "outputs": [
    {
     "data": {
      "image/png": "[encoded data removed]",
      "text/plain": [
       "<Figure size 640x480 with 1 Axes>"
      ]
     },
     "metadata": {},
     "output_type": "display_data"
    }
   ],
   "source": [
    "p5l0 = Regression(x5_train , target , 13 ,5 , 0)\n",
    "p5l0.cross_validation()"
   ]
  },
  {
   "cell_type": "markdown",
   "id": "4005ba24-5863-4e10-94a4-f5e5bb4eba39",
   "metadata": {},
   "source": [
    "<p dir=rtl style=\"direction: rtl;text-align: right;line-height:200%;font-family:vazir;font-size:medium\">\n",
    "<font face=\"vazir\" size=3>\n",
    "تحلیل نمودار بالا:\n",
    "    <br>\n",
    "در این حالت  \n",
    "    <code>validation-MSE</code>\n",
    "    و\n",
    "    <code>train-MSE</code>\n",
    "    مانند حالت اول درجه 3 تفاوت فاحشی دارند و خود این مقادیر به خودی خود زیاد میباشند که بگوییم \n",
    "    <code>Underfit</code>\n",
    "    اتفاق افتاده است.که دلیل آن را نیز قبلا عرض کرده ام.\n",
    "    </br>\n",
    "</p>"
   ]
  },
  {
   "cell_type": "markdown",
   "id": "4683c3c5-80a4-4236-b949-e6cfa7bdd83b",
   "metadata": {},
   "source": [
    "**Polynomial Degree = 5 and Lambda = 1  :**"
   ]
  },
  {
   "cell_type": "code",
   "execution_count": 434,
   "id": "f51d7f59-6a23-4a95-ad7b-57ef3e6da187",
   "metadata": {},
   "outputs": [
    {
     "data": {
      "image/png": "[encoded data removed]",
      "text/plain": [
       "<Figure size 640x480 with 1 Axes>"
      ]
     },
     "metadata": {},
     "output_type": "display_data"
    }
   ],
   "source": [
    "p5l1 = Regression(x5_train , target , 13 ,5 , 1)\n",
    "p5l1.cross_validation()"
   ]
  },
  {
   "cell_type": "markdown",
   "id": "06359b43-a530-4da6-abaf-8c50c1827a81",
   "metadata": {},
   "source": [
    "<p dir=rtl style=\"direction: rtl;text-align: right;line-height:200%;font-family:vazir;font-size:medium\">\n",
    "<font face=\"vazir\" size=3>\n",
    "تحلیل نمودار بالا:\n",
    "    <br>\n",
    "در این حالت مقدار  \n",
    "    <code>validation-MSE</code>\n",
    "    بسیار زیاد است\n",
    "    و مقدار\n",
    "    <code>train-MSE</code>\n",
    "بسیار بسیار کم است و این دو تفاوت زیادی باهم دارند. \n",
    "در نتیجه این مدل به شدت \n",
    "    <code>overfit</code>\n",
    "    میباشد\n",
    "    </br>\n",
    "</p>"
   ]
  },
  {
   "cell_type": "markdown",
   "id": "7a34702b-d3e1-4e8c-989c-d881d2e38ec5",
   "metadata": {},
   "source": [
    "**Polynomial Degree = 5 and Lambda = 10  :**"
   ]
  },
  {
   "cell_type": "code",
   "execution_count": 435,
   "id": "d2935276-8d91-40b8-8608-908f2e8f5b8e",
   "metadata": {},
   "outputs": [
    {
     "data": {
      "image/png": "[encoded data removed]",
      "text/plain": [
       "<Figure size 640x480 with 1 Axes>"
      ]
     },
     "metadata": {},
     "output_type": "display_data"
    }
   ],
   "source": [
    "p5l10 = Regression(x5_train , target , 13 ,5 , 10)\n",
    "p5l10.cross_validation()"
   ]
  },
  {
   "cell_type": "markdown",
   "id": "6a4497a3-74ad-49b7-8d36-1261747ff2a1",
   "metadata": {},
   "source": [
    "<p dir=rtl style=\"direction: rtl;text-align: right;line-height:200%;font-family:vazir;font-size:medium\">\n",
    "<font face=\"vazir\" size=3>\n",
    "تحلیل نمودار بالا:\n",
    "    <br>\n",
    "در این حالت مقدار  \n",
    "    <code>validation-MSE</code>\n",
    "    بسیار زیاد است\n",
    "    و مقدار\n",
    "    <code>train-MSE</code>\n",
    "بسیار کم است و این دو تفاوت زیادی باهم دارند. این حالت شرایطی مشابه حالت قبل دارد و  \n",
    "در نتیجه به شدت \n",
    "    <code>overfit</code>\n",
    "    میباشد\n",
    "    </br>\n",
    "</p>"
   ]
  },
  {
   "cell_type": "markdown",
   "id": "5b0f12d9-107f-4808-9d7d-a0f197c19fcc",
   "metadata": {},
   "source": [
    "<p dir=rtl style=\"direction: rtl;text-align: right;line-height:200%;font-family:vazir;font-size:medium\">\n",
    "<font face=\"vazir\" size=3>\n",
    "    حال\n",
    "    <code>box plot</code>\n",
    "    9 مدل مختلف را رسم کرده ایم.\n",
    "    با تحلیل این 9 نمودار متوجه میشویم کمترین اختلاف بین \n",
    "    <code>Validation-MSE</code>\n",
    "    و\n",
    "        <code>Train-MSE</code>\n",
    "    \n",
    "تنظیمات درجه 3 و ضریب منظم سازی 10 دارد\n",
    "    و خود این مقادیر هم به نسبت بقیه حالات کمتر است بنابراین این تنظیمات را انتخاب میکنیم.\n",
    "    حال باید این تنظیمات را روی کل داده های اموزش اعمال کرده و سپس \n",
    "    <code>train</code>\n",
    "    کنیم\n",
    "</p>"
   ]
  },
  {
   "cell_type": "markdown",
   "id": "97c86d4c-1940-4987-8b17-963064e480a5",
   "metadata": {},
   "source": [
    "**Choosing the best setting:**"
   ]
  },
  {
   "cell_type": "code",
   "execution_count": 448,
   "id": "8b1fb3a8-b8dd-479b-89e3-0c33540b33c3",
   "metadata": {},
   "outputs": [],
   "source": [
    "best_setting = p3l10\n",
    "w = best_setting.train_normal_equation(x3_train , target)"
   ]
  },
  {
   "cell_type": "markdown",
   "id": "b45578c3-98db-49cd-9d29-d97c1429750d",
   "metadata": {},
   "source": [
    "<p dir=rtl style=\"direction: rtl;text-align: right;line-height:200%;font-family:vazir;font-size:medium\">\n",
    "<font face=\"vazir\" size=3>\n",
    "حال داده ی تست را میخوانیم و آن را با میانگین و انحراف معیار داده های آموزش استاندارد میکنیم\n",
    "</p>"
   ]
  },
  {
   "cell_type": "code",
   "execution_count": 440,
   "id": "3aed6a44-d4ee-4dd5-8d37-3a9b9c6aa3a4",
   "metadata": {},
   "outputs": [],
   "source": [
    "df_test = pd.read_csv('Dataset/Problem 2/test_set.csv')\n",
    "df_test['bias'] = 1"
   ]
  },
  {
   "cell_type": "code",
   "execution_count": 441,
   "id": "ddfed3c1-13b0-4011-9d9f-fd4bb321562f",
   "metadata": {},
   "outputs": [],
   "source": [
    "x_test = df_test.values\n",
    "x_test[: , :-1] = (x_test[: , :-1] - mean) / std\n"
   ]
  },
  {
   "cell_type": "markdown",
   "id": "9426c11c-6327-4022-bc2d-8aba6b69c191",
   "metadata": {},
   "source": [
    "<p dir=rtl style=\"direction: rtl;text-align: right;line-height:200%;font-family:vazir;font-size:medium\">\n",
    "<font face=\"vazir\" size=3>\n",
    "حال با استفاده از تابع \n",
    "    <code>make_features</code>\n",
    "ویژگی های درجه 3 داده های تست را استخراج کرده و داده ی حاصل را که در ارایه نامپای\n",
    "     <code>x3_test</code>\n",
    "    نگه میداریم\n",
    "    برای پیشبینی به مدل میدهیم\n",
    "</p>"
   ]
  },
  {
   "cell_type": "code",
   "execution_count": 443,
   "id": "da7eb553-ead4-4d76-ac3c-d2ac2a545f11",
   "metadata": {},
   "outputs": [],
   "source": [
    "constructed_x = []\n",
    "make_features(x_test[: , :-1] , 3)\n",
    "for i in range(len(constructed_x)):\n",
    "    constructed_x[i].append(1)\n",
    "x3_test = np.array(constructed_x)"
   ]
  },
  {
   "cell_type": "code",
   "execution_count": 450,
   "id": "9b16d537-cac7-43a8-aa4f-c59811e930bc",
   "metadata": {},
   "outputs": [
    {
     "name": "stdout",
     "output_type": "stream",
     "text": [
      "the prediction of learned weights from chosen setting is :\n",
      "[17.8114407  25.1561727  35.60691303  9.85172895 17.37327634 26.83699095\n",
      " 22.66511754 48.39810753 34.53808268 32.94497645 25.05317105 19.55607752\n",
      " 20.79837134 33.77508507 26.02221879  6.66927364 21.70054675 22.61147778\n",
      " 34.96379012 15.65297301 22.0315236  23.64313905 24.72770994 14.66926624\n",
      " 33.22941377 19.942656   18.52814536 30.47177593 15.55671696 36.36907138\n",
      " 19.23489232 24.24076901 14.46611307 31.2708157  26.87532266 25.90156833\n",
      " 16.61978808 12.61632957 16.40816596 11.49487294 27.94263016 17.14259837\n",
      "  9.29610975 22.21656583 37.59045511 23.89817112 18.69728725 15.41437639\n",
      " 17.00838681 11.78769831 18.05626862 17.21881822 23.57179562 33.57028188\n",
      " 32.42577256 27.0592687  22.14972405 17.76438614 22.92751779 26.24552294\n",
      " 19.01736466 22.28534665 10.03720177 24.105172   34.73483516 21.49077295\n",
      " 29.77385708 38.95268043 45.56824302 -3.83739272 28.06852563 12.27670809\n",
      " 51.73168611 25.17467255 16.90030328 16.65515576 23.70692797  5.55166069\n",
      " 16.7571163  14.81462361 13.32436072 30.49541369 18.44461055 23.32870805\n",
      " 19.82327957 15.41389699 27.39607769 19.13219962  6.18700683 33.01174869\n",
      " 22.25756884 22.39351518 19.71508827 19.65385515 22.38562504 14.5990968\n",
      " 15.45122976 19.63860193 16.15785221 30.78502157]\n"
     ]
    }
   ],
   "source": [
    "prediction = best_setting.predict(x3_test , w)\n",
    "print(f'the prediction of learned weights from chosen setting is :\\n{prediction}')"
   ]
  },
  {
   "cell_type": "markdown",
   "id": "cad7410d-ff52-40f2-8dd0-c41887ef3f94",
   "metadata": {},
   "source": [
    "<p dir=rtl style=\"direction: rtl;text-align: right;line-height:200%;font-family:vazir;font-size:medium\">\n",
    "<font face=\"vazir\" size=3>\n",
    "دیتافریم زیر پیشبینی مدل انتخاب شده ی ما را روی داده های تست نشان میدهد\n",
    "</p>"
   ]
  },
  {
   "cell_type": "code",
   "execution_count": 458,
   "id": "d1d08e10-f8c1-41bf-820d-af900b5186cf",
   "metadata": {},
   "outputs": [
    {
     "data": {
      "text/html": [
       "<div>\n",
       "<style scoped>\n",
       "    .dataframe tbody tr th:only-of-type {\n",
       "        vertical-align: middle;\n",
       "    }\n",
       "\n",
       "    .dataframe tbody tr th {\n",
       "        vertical-align: top;\n",
       "    }\n",
       "\n",
       "    .dataframe thead th {\n",
       "        text-align: right;\n",
       "    }\n",
       "</style>\n",
       "<table border=\"1\" class=\"dataframe\">\n",
       "  <thead>\n",
       "    <tr style=\"text-align: right;\">\n",
       "      <th></th>\n",
       "      <th>f1</th>\n",
       "      <th>f2</th>\n",
       "      <th>f3</th>\n",
       "      <th>f4</th>\n",
       "      <th>f5</th>\n",
       "      <th>f6</th>\n",
       "      <th>f7</th>\n",
       "      <th>f8</th>\n",
       "      <th>f9</th>\n",
       "      <th>f10</th>\n",
       "      <th>f11</th>\n",
       "      <th>f12</th>\n",
       "      <th>f13</th>\n",
       "      <th>bias</th>\n",
       "      <th>predicted</th>\n",
       "    </tr>\n",
       "  </thead>\n",
       "  <tbody>\n",
       "    <tr>\n",
       "      <th>0</th>\n",
       "      <td>0.05646</td>\n",
       "      <td>0.0</td>\n",
       "      <td>12.83</td>\n",
       "      <td>0.0</td>\n",
       "      <td>0.437</td>\n",
       "      <td>6.232</td>\n",
       "      <td>53.7</td>\n",
       "      <td>5.0141</td>\n",
       "      <td>5.0</td>\n",
       "      <td>398.0</td>\n",
       "      <td>18.7</td>\n",
       "      <td>386.40</td>\n",
       "      <td>12.34</td>\n",
       "      <td>1</td>\n",
       "      <td>17.811441</td>\n",
       "    </tr>\n",
       "    <tr>\n",
       "      <th>1</th>\n",
       "      <td>0.02985</td>\n",
       "      <td>0.0</td>\n",
       "      <td>2.18</td>\n",
       "      <td>0.0</td>\n",
       "      <td>0.458</td>\n",
       "      <td>6.430</td>\n",
       "      <td>58.7</td>\n",
       "      <td>6.0622</td>\n",
       "      <td>3.0</td>\n",
       "      <td>222.0</td>\n",
       "      <td>18.7</td>\n",
       "      <td>394.12</td>\n",
       "      <td>5.21</td>\n",
       "      <td>1</td>\n",
       "      <td>25.156173</td>\n",
       "    </tr>\n",
       "    <tr>\n",
       "      <th>2</th>\n",
       "      <td>0.09103</td>\n",
       "      <td>0.0</td>\n",
       "      <td>2.46</td>\n",
       "      <td>0.0</td>\n",
       "      <td>0.488</td>\n",
       "      <td>7.155</td>\n",
       "      <td>92.2</td>\n",
       "      <td>2.7006</td>\n",
       "      <td>3.0</td>\n",
       "      <td>193.0</td>\n",
       "      <td>17.8</td>\n",
       "      <td>394.12</td>\n",
       "      <td>4.82</td>\n",
       "      <td>1</td>\n",
       "      <td>35.606913</td>\n",
       "    </tr>\n",
       "    <tr>\n",
       "      <th>3</th>\n",
       "      <td>10.83420</td>\n",
       "      <td>0.0</td>\n",
       "      <td>18.10</td>\n",
       "      <td>0.0</td>\n",
       "      <td>0.679</td>\n",
       "      <td>6.782</td>\n",
       "      <td>90.8</td>\n",
       "      <td>1.8195</td>\n",
       "      <td>24.0</td>\n",
       "      <td>666.0</td>\n",
       "      <td>20.2</td>\n",
       "      <td>21.57</td>\n",
       "      <td>25.79</td>\n",
       "      <td>1</td>\n",
       "      <td>9.851729</td>\n",
       "    </tr>\n",
       "    <tr>\n",
       "      <th>4</th>\n",
       "      <td>2.14918</td>\n",
       "      <td>0.0</td>\n",
       "      <td>19.58</td>\n",
       "      <td>0.0</td>\n",
       "      <td>0.871</td>\n",
       "      <td>5.709</td>\n",
       "      <td>98.5</td>\n",
       "      <td>1.6232</td>\n",
       "      <td>5.0</td>\n",
       "      <td>403.0</td>\n",
       "      <td>14.7</td>\n",
       "      <td>261.95</td>\n",
       "      <td>15.79</td>\n",
       "      <td>1</td>\n",
       "      <td>17.373276</td>\n",
       "    </tr>\n",
       "  </tbody>\n",
       "</table>\n",
       "</div>"
      ],
      "text/plain": [
       "         f1   f2     f3   f4     f5     f6    f7      f8    f9    f10   f11  \\\n",
       "0   0.05646  0.0  12.83  0.0  0.437  6.232  53.7  5.0141   5.0  398.0  18.7   \n",
       "1   0.02985  0.0   2.18  0.0  0.458  6.430  58.7  6.0622   3.0  222.0  18.7   \n",
       "2   0.09103  0.0   2.46  0.0  0.488  7.155  92.2  2.7006   3.0  193.0  17.8   \n",
       "3  10.83420  0.0  18.10  0.0  0.679  6.782  90.8  1.8195  24.0  666.0  20.2   \n",
       "4   2.14918  0.0  19.58  0.0  0.871  5.709  98.5  1.6232   5.0  403.0  14.7   \n",
       "\n",
       "      f12    f13  bias  predicted  \n",
       "0  386.40  12.34     1  17.811441  \n",
       "1  394.12   5.21     1  25.156173  \n",
       "2  394.12   4.82     1  35.606913  \n",
       "3   21.57  25.79     1   9.851729  \n",
       "4  261.95  15.79     1  17.373276  "
      ]
     },
     "execution_count": 458,
     "metadata": {},
     "output_type": "execute_result"
    }
   ],
   "source": [
    "df_test['predicted']  = prediction\n",
    "df_test.head()"
   ]
  },
  {
   "cell_type": "code",
   "execution_count": 460,
   "id": "c18c10e1-7b03-49de-8cbc-d3ef18ee2f50",
   "metadata": {},
   "outputs": [],
   "source": [
    "df_test['predicted'].to_csv('prediction.csv' , index=False)"
   ]
  },
  {
   "cell_type": "markdown",
   "id": "3a0bc571-ffba-48ee-a50c-5b1a6b3ab7e7",
   "metadata": {},
   "source": [
    "<p dir=rtl style=\"direction: rtl;text-align: right;line-height:200%;font-family:vazir;font-size:medium\">\n",
    "<font face=\"vazir\" size=3>\n",
    "بخش 4 سوال دوم:\n",
    "    <br>\n",
    "    در حالت کلی باید تنظیمات مختلف را ازمون و خطا کرد یعنی ممکن است تنظیماتی از درجه ی دوم و یک ضریب منظم سازی مشخص، مدل بهتری از مدل انتخابی ما داشته باشد.\n",
    "    اما چیزی که از روند 9 مدل تست شده میتوان فهمید این است که در درجه 5 و به خصوص در درجه ی 3 با افزایش ضریب منظم سازی به مدل بهتری میرسیم که  \n",
    "    <code>fit</code>\n",
    "    تر نسبت به دیتا است\n",
    "     و ممکن است به تنظیمات بهتری برسیم.\n",
    "    اما همانطور که گفتم این مورد با سعی و خطا بدست می آید\n",
    "    </br>\n",
    "</p>"
   ]
  },
  {
   "cell_type": "code",
   "execution_count": null,
   "id": "b4cfe73f-8b59-41a4-9d68-938150b2bd07",
   "metadata": {},
   "outputs": [],
   "source": []
  }
 ],
 "metadata": {
  "kernelspec": {
   "display_name": "Python 3 (ipykernel)",
   "language": "python",
   "name": "python3"
  },
  "language_info": {
   "codemirror_mode": {
    "name": "ipython",
    "version": 3
   },
   "file_extension": ".py",
   "mimetype": "text/x-python",
   "name": "python",
   "nbconvert_exporter": "python",
   "pygments_lexer": "ipython3",
   "version": "3.8.1"
  }
 },
 "nbformat": 4,
 "nbformat_minor": 5
}
